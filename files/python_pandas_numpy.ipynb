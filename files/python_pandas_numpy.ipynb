{
 "cells": [
  {
   "cell_type": "code",
   "execution_count": 3,
   "metadata": {},
   "outputs": [
    {
     "name": "stdout",
     "output_type": "stream",
     "text": [
      "    Items  Qunatity(Kgs)\n",
      "0   Sugar             10\n",
      "1    Salt             20\n",
      "2  Pepper              5\n"
     ]
    }
   ],
   "source": [
    "import pandas as pd\n",
    "\n",
    "stock_dict = {\n",
    "  'Items': [\"Sugar\", \"Salt\", \"Pepper\"],\n",
    "  'Qunatity(Kgs)': [10, 20, 5]\n",
    "}\n",
    "\n",
    "stock_df = pandas.DataFrame(stock_dict)\n",
    "\n",
    "print(stock_df)"
   ]
  },
  {
   "cell_type": "code",
   "execution_count": 4,
   "metadata": {},
   "outputs": [
    {
     "name": "stdout",
     "output_type": "stream",
     "text": [
      "0    10\n",
      "1    20\n",
      "2    30\n",
      "dtype: int64\n"
     ]
    }
   ],
   "source": [
    "\n",
    "quantity = [10, 20, 30]\n",
    "\n",
    "quantity_series = pd.Series(quantity)\n",
    "\n",
    "print(quantity_series)"
   ]
  },
  {
   "cell_type": "code",
   "execution_count": 5,
   "metadata": {},
   "outputs": [
    {
     "name": "stdout",
     "output_type": "stream",
     "text": [
      "10\n"
     ]
    }
   ],
   "source": [
    "quantity = [10, 20, 30]\n",
    "\n",
    "quantity_series = pd.Series(quantity, index = [\"Sugar\", \"Salt\", \"Pepper\"])\n",
    "\n",
    "print(quantity_series[\"Sugar\"])"
   ]
  },
  {
   "cell_type": "code",
   "execution_count": 6,
   "metadata": {},
   "outputs": [
    {
     "name": "stdout",
     "output_type": "stream",
     "text": [
      "eggs            10\n",
      "butter(tbsp)    20\n",
      "sugar(oz)       30\n",
      "salt(oz)        40\n",
      "dtype: int64\n",
      "eggs            10\n",
      "butter(tbsp)    20\n",
      "dtype: int64\n"
     ]
    }
   ],
   "source": [
    "pantry={'eggs':10,'butter(tbsp)':20,'sugar(oz)':30,'salt(oz)':40}\n",
    "\n",
    "pantry_series = pd.Series(pantry)\n",
    "print(pantry_series)\n",
    "pantry_series_slice = pd.Series(pantry, index = ['eggs', 'butter(tbsp)'])\n",
    "print(pantry_series_slice)"
   ]
  },
  {
   "cell_type": "code",
   "execution_count": 7,
   "metadata": {},
   "outputs": [
    {
     "name": "stdout",
     "output_type": "stream",
     "text": [
      "   quantity_available  quantity_needed_for_full_inventory\n",
      "0                 420                                  50\n",
      "1                 380                                  40\n",
      "2                 390                                  45\n"
     ]
    }
   ],
   "source": [
    "data = {\n",
    "  \"quantity_available\": [420, 380, 390],\n",
    "  \"quantity_needed_for_full_inventory\": [50, 40, 45]\n",
    "}\n",
    "\n",
    "#load data into a DataFrame object:\n",
    "df = pd.DataFrame(data)\n",
    "\n",
    "print(df) "
   ]
  },
  {
   "cell_type": "code",
   "execution_count": 8,
   "metadata": {},
   "outputs": [
    {
     "name": "stdout",
     "output_type": "stream",
     "text": [
      "quantity_available                    420\n",
      "quantity_needed_for_full_inventory     50\n",
      "Name: 0, dtype: int64\n",
      "   quantity_available  quantity_needed_for_full_inventory\n",
      "0                 420                                  50\n",
      "1                 380                                  40\n"
     ]
    }
   ],
   "source": [
    "print(df.loc[0]) # returns single row\n",
    "print(df.loc[[0, 1]]) # returns multiple rows in a dataframe"
   ]
  },
  {
   "cell_type": "code",
   "execution_count": 9,
   "metadata": {},
   "outputs": [
    {
     "name": "stdout",
     "output_type": "stream",
     "text": [
      "        quantity_available  quantity_needed_for_full_inventory\n",
      "Sugar                  420                                  50\n",
      "Salt                   380                                  40\n",
      "Pepper                 390                                  45\n"
     ]
    }
   ],
   "source": [
    "data = {\n",
    "  \"quantity_available\": [420, 380, 390],\n",
    "  \"quantity_needed_for_full_inventory\": [50, 40, 45]\n",
    "}\n",
    "\n",
    "#load data into a DataFrame object:\n",
    "df_labeled = pd.DataFrame(data, index = ['Sugar', 'Salt', 'Pepper'])\n",
    "\n",
    "print(df_labeled) "
   ]
  },
  {
   "cell_type": "code",
   "execution_count": 10,
   "metadata": {},
   "outputs": [
    {
     "name": "stdout",
     "output_type": "stream",
     "text": [
      "quantity_available                    420\n",
      "quantity_needed_for_full_inventory     50\n",
      "Name: Sugar, dtype: int64\n",
      "       quantity_available  quantity_needed_for_full_inventory\n",
      "Sugar                 420                                  50\n",
      "Salt                  380                                  40\n"
     ]
    }
   ],
   "source": [
    "print(df_labeled.loc['Sugar'])\n",
    "print(df_labeled.loc[['Sugar','Salt']])"
   ]
  },
  {
   "cell_type": "code",
   "execution_count": 11,
   "metadata": {},
   "outputs": [
    {
     "name": "stdout",
     "output_type": "stream",
     "text": [
      "   quantity_available  quantity_needed_for_full_inventory Name_of_item\n",
      "0                   5                                  50        Sugar\n",
      "1                  10                                  40         Salt\n",
      "2                  15                                  45       Pepper\n",
      "3                  20                                  60       Butter\n",
      "4                  25                                  60        Flour\n",
      "    quantity_available  quantity_needed_for_full_inventory  \\\n",
      "7                   12                                  50   \n",
      "8                   10                                  25   \n",
      "9                   10                                  50   \n",
      "10                  25                                  50   \n",
      "11                  15                                  30   \n",
      "\n",
      "           Name_of_item  \n",
      "7           Blue Cheese  \n",
      "8                 Panko  \n",
      "9           Maple Syrup  \n",
      "10  Strawberry Preserve  \n",
      "11                Honey  \n",
      "   quantity_available  quantity_needed_for_full_inventory   Name_of_item\n",
      "0                   5                                  50          Sugar\n",
      "1                  10                                  40           Salt\n",
      "2                  15                                  45         Pepper\n",
      "3                  20                                  60         Butter\n",
      "4                  25                                  60          Flour\n",
      "5                  30                                  80  Baking Powder\n",
      "6                  35                                 100           eggs\n",
      "7                  12                                  50    Blue Cheese\n",
      "8                  10                                  25          Panko\n",
      "9                  10                                  50    Maple Syrup\n",
      "    quantity_available  quantity_needed_for_full_inventory  \\\n",
      "2                   15                                  45   \n",
      "3                   20                                  60   \n",
      "4                   25                                  60   \n",
      "5                   30                                  80   \n",
      "6                   35                                 100   \n",
      "7                   12                                  50   \n",
      "8                   10                                  25   \n",
      "9                   10                                  50   \n",
      "10                  25                                  50   \n",
      "11                  15                                  30   \n",
      "\n",
      "           Name_of_item  \n",
      "2                Pepper  \n",
      "3                Butter  \n",
      "4                 Flour  \n",
      "5         Baking Powder  \n",
      "6                  eggs  \n",
      "7           Blue Cheese  \n",
      "8                 Panko  \n",
      "9           Maple Syrup  \n",
      "10  Strawberry Preserve  \n",
      "11                Honey  \n"
     ]
    }
   ],
   "source": [
    "data = {\n",
    "  \"quantity_available\": [5, 10, 15, 20, 25, 30, 35, 12, 10, 10, 25, 15],\n",
    "  \"quantity_needed_for_full_inventory\": [50, 40, 45, 60, 60, 80, 100, 50, 25, 50, 50, 30],\n",
    "  \"Name_of_item\":['Sugar','Salt','Pepper','Butter','Flour','Baking Powder','eggs','Blue Cheese', 'Panko', 'Maple Syrup', 'Strawberry Preserve', 'Honey']\n",
    "}\n",
    "\n",
    "#load data into a DataFrame object:\n",
    "df = pd.DataFrame(data)\n",
    "\n",
    "print(df.head())\n",
    "print(df.tail())\n",
    "\n",
    "print(df.head(10))\n",
    "print(df.tail(10))"
   ]
  },
  {
   "cell_type": "code",
   "execution_count": 12,
   "metadata": {},
   "outputs": [
    {
     "name": "stdout",
     "output_type": "stream",
     "text": [
      "<class 'pandas.core.frame.DataFrame'>\n",
      "RangeIndex: 12 entries, 0 to 11\n",
      "Data columns (total 3 columns):\n",
      " #   Column                              Non-Null Count  Dtype \n",
      "---  ------                              --------------  ----- \n",
      " 0   quantity_available                  12 non-null     int64 \n",
      " 1   quantity_needed_for_full_inventory  12 non-null     int64 \n",
      " 2   Name_of_item                        12 non-null     object\n",
      "dtypes: int64(2), object(1)\n",
      "memory usage: 416.0+ bytes\n",
      "None\n"
     ]
    }
   ],
   "source": [
    "print(df.info())"
   ]
  },
  {
   "cell_type": "markdown",
   "metadata": {},
   "source": [
    "# Numpy"
   ]
  },
  {
   "cell_type": "code",
   "execution_count": 13,
   "metadata": {},
   "outputs": [
    {
     "name": "stdout",
     "output_type": "stream",
     "text": [
      "[1 2 3 4 5]\n"
     ]
    }
   ],
   "source": [
    "import numpy \n",
    "\n",
    "arr = numpy.array([1, 2, 3, 4, 5])\n",
    "\n",
    "print(arr)"
   ]
  },
  {
   "cell_type": "code",
   "execution_count": 14,
   "metadata": {},
   "outputs": [
    {
     "name": "stdout",
     "output_type": "stream",
     "text": [
      "[1 2 3 4 5]\n",
      "<class 'numpy.ndarray'>\n"
     ]
    }
   ],
   "source": [
    "import numpy as np\n",
    "\n",
    "arr = np.array([1, 2, 3, 4, 5])\n",
    "\n",
    "print(arr)\n",
    "\n",
    "print(type(arr))"
   ]
  },
  {
   "cell_type": "code",
   "execution_count": 15,
   "metadata": {},
   "outputs": [
    {
     "name": "stdout",
     "output_type": "stream",
     "text": [
      "42\n"
     ]
    }
   ],
   "source": [
    "arr = np.array(42)\n",
    "\n",
    "print(arr)"
   ]
  },
  {
   "cell_type": "code",
   "execution_count": 16,
   "metadata": {},
   "outputs": [
    {
     "name": "stdout",
     "output_type": "stream",
     "text": [
      "[1 2 3 4 5]\n"
     ]
    }
   ],
   "source": [
    "arr = np.array([1, 2, 3, 4, 5])\n",
    "\n",
    "print(arr)"
   ]
  },
  {
   "cell_type": "code",
   "execution_count": 17,
   "metadata": {},
   "outputs": [
    {
     "name": "stdout",
     "output_type": "stream",
     "text": [
      "[[1 2 3]\n",
      " [4 5 6]]\n"
     ]
    }
   ],
   "source": [
    "arr = np.array([[1, 2, 3], [4, 5, 6]])\n",
    "\n",
    "print(arr)"
   ]
  },
  {
   "cell_type": "code",
   "execution_count": 18,
   "metadata": {},
   "outputs": [
    {
     "name": "stdout",
     "output_type": "stream",
     "text": [
      "[[[1 2 3]\n",
      "  [4 5 6]]\n",
      "\n",
      " [[1 2 3]\n",
      "  [4 5 6]]]\n"
     ]
    }
   ],
   "source": [
    "arr = np.array([[[1, 2, 3], [4, 5, 6]], [[1, 2, 3], [4, 5, 6]]])\n",
    "\n",
    "print(arr)"
   ]
  },
  {
   "cell_type": "code",
   "execution_count": 19,
   "metadata": {},
   "outputs": [
    {
     "name": "stdout",
     "output_type": "stream",
     "text": [
      "[[[[[1 2 3 4]]]]]\n",
      "number of dimensions : 5\n"
     ]
    }
   ],
   "source": [
    "\n",
    "\n",
    "arr = np.array([1, 2, 3, 4], ndmin=5)\n",
    "\n",
    "print(arr)\n",
    "print('number of dimensions :', arr.ndim)"
   ]
  },
  {
   "cell_type": "code",
   "execution_count": 20,
   "metadata": {},
   "outputs": [
    {
     "name": "stdout",
     "output_type": "stream",
     "text": [
      "5\n"
     ]
    }
   ],
   "source": [
    "print(arr.ndim)"
   ]
  },
  {
   "cell_type": "code",
   "execution_count": 21,
   "metadata": {},
   "outputs": [
    {
     "name": "stdout",
     "output_type": "stream",
     "text": [
      "1\n"
     ]
    }
   ],
   "source": [
    "arr = np.array([1, 2, 3, 4])\n",
    "\n",
    "print(arr[0])"
   ]
  },
  {
   "cell_type": "code",
   "execution_count": 22,
   "metadata": {},
   "outputs": [
    {
     "name": "stdout",
     "output_type": "stream",
     "text": [
      "2nd element on 1st row:  2\n"
     ]
    }
   ],
   "source": [
    "arr = np.array([[1,2,3,4,5], [6,7,8,9,10]])\n",
    "\n",
    "print('2nd element on 1st row: ', arr[0, 1])"
   ]
  },
  {
   "cell_type": "code",
   "execution_count": 23,
   "metadata": {},
   "outputs": [
    {
     "name": "stdout",
     "output_type": "stream",
     "text": [
      "[2 3 4 5]\n",
      "[5 6 7]\n",
      "[1 2 3 4]\n",
      "[5 6]\n",
      "[2 4]\n",
      "[7 8 9]\n",
      "[[2 3 4]\n",
      " [7 8 9]]\n"
     ]
    }
   ],
   "source": [
    "import numpy as np\n",
    "\n",
    "arr = np.array([1, 2, 3, 4, 5, 6, 7])\n",
    "\n",
    "arr2 = np.array([[1, 2, 3, 4, 5], [6, 7, 8, 9, 10]])\n",
    "print(arr[1:5]) # Slice elements from index 1 to index 5\n",
    "print(arr[4:]) # Slice elements from index 4 to the end of the array\n",
    "print(arr[:4]) # Slice elements from the beginning to index 4 (not included)\n",
    "print(arr[-3:-1]) # Slice from the index 3 from the end to index 1 from the end\n",
    "print(arr[1:5:2]) # Return every other element from index 1 to index 5\n",
    "print(arr2[1, 1:4]) # From the second element, slice elements from index 1 to index 4 (not included)\n",
    "print(arr2[0:2, 1:4]) # From both elements, slice index 1 to index 4 (not included)"
   ]
  },
  {
   "cell_type": "code",
   "execution_count": 24,
   "metadata": {},
   "outputs": [
    {
     "name": "stdout",
     "output_type": "stream",
     "text": [
      "(2, 4)\n"
     ]
    }
   ],
   "source": [
    "arr = np.array([[1, 2, 3, 4], [5, 6, 7, 8]])\n",
    "\n",
    "print(arr.shape)"
   ]
  },
  {
   "cell_type": "code",
   "execution_count": 25,
   "metadata": {},
   "outputs": [
    {
     "name": "stdout",
     "output_type": "stream",
     "text": [
      "[[ 1  2  3]\n",
      " [ 4  5  6]\n",
      " [ 7  8  9]\n",
      " [10 11 12]]\n"
     ]
    }
   ],
   "source": [
    "arr = np.array([1, 2, 3, 4, 5, 6, 7, 8, 9, 10, 11, 12])\n",
    "\n",
    "newarr = arr.reshape(4, 3)\n",
    "\n",
    "print(newarr)"
   ]
  },
  {
   "cell_type": "code",
   "execution_count": 26,
   "metadata": {},
   "outputs": [
    {
     "name": "stdout",
     "output_type": "stream",
     "text": [
      "[[[ 1  2]\n",
      "  [ 3  4]\n",
      "  [ 5  6]]\n",
      "\n",
      " [[ 7  8]\n",
      "  [ 9 10]\n",
      "  [11 12]]]\n"
     ]
    }
   ],
   "source": [
    "arr = np.array([1, 2, 3, 4, 5, 6, 7, 8, 9, 10, 11, 12])\n",
    "\n",
    "newarr = arr.reshape(2, 3, 2)\n",
    "\n",
    "print(newarr)"
   ]
  },
  {
   "cell_type": "code",
   "execution_count": 27,
   "metadata": {},
   "outputs": [
    {
     "name": "stdout",
     "output_type": "stream",
     "text": [
      "[1 2 3 4 5 6]\n"
     ]
    }
   ],
   "source": [
    "arr = np.array([[1, 2, 3], [4, 5, 6]])\n",
    "\n",
    "newarr = arr.reshape(-1)\n",
    "\n",
    "print(newarr)"
   ]
  },
  {
   "cell_type": "code",
   "execution_count": 28,
   "metadata": {},
   "outputs": [
    {
     "name": "stdout",
     "output_type": "stream",
     "text": [
      "[1 2 3 4 5 6]\n",
      "[[1 2 5 6]\n",
      " [3 4 7 8]]\n"
     ]
    }
   ],
   "source": [
    "\n",
    "\n",
    "arr1 = np.array([1, 2, 3])\n",
    "\n",
    "arr2 = np.array([4, 5, 6])\n",
    "\n",
    "arr = np.concatenate((arr1, arr2))\n",
    "\n",
    "print(arr)\n",
    "\n",
    "arr1 = np.array([[1, 2], [3, 4]])\n",
    "\n",
    "arr2 = np.array([[5, 6], [7, 8]])\n",
    "\n",
    "arr = np.concatenate((arr1, arr2), axis=1)\n",
    "print(arr)"
   ]
  },
  {
   "cell_type": "code",
   "execution_count": 29,
   "metadata": {},
   "outputs": [
    {
     "name": "stdout",
     "output_type": "stream",
     "text": [
      "[array([1, 2]), array([3, 4]), array([5, 6])]\n"
     ]
    }
   ],
   "source": [
    "\n",
    "\n",
    "arr = np.array([1, 2, 3, 4, 5, 6])\n",
    "\n",
    "newarr = np.array_split(arr, 3)\n",
    "\n",
    "print(newarr)"
   ]
  },
  {
   "cell_type": "code",
   "execution_count": 30,
   "metadata": {},
   "outputs": [
    {
     "name": "stdout",
     "output_type": "stream",
     "text": [
      "(array([3, 5, 6]),)\n"
     ]
    }
   ],
   "source": [
    "arr = np.array([1, 2, 3, 4, 5, 4, 4])\n",
    "\n",
    "x = np.where(arr == 4)\n",
    "\n",
    "print(x)"
   ]
  },
  {
   "cell_type": "code",
   "execution_count": 31,
   "metadata": {},
   "outputs": [
    {
     "name": "stdout",
     "output_type": "stream",
     "text": [
      "[0 1 2 3]\n"
     ]
    }
   ],
   "source": [
    "arr = np.array([3, 2, 0, 1])\n",
    "\n",
    "print(np.sort(arr))"
   ]
  }
 ],
 "metadata": {
  "kernelspec": {
   "display_name": "Python 3",
   "language": "python",
   "name": "python3"
  },
  "language_info": {
   "codemirror_mode": {
    "name": "ipython",
    "version": 3
   },
   "file_extension": ".py",
   "mimetype": "text/x-python",
   "name": "python",
   "nbconvert_exporter": "python",
   "pygments_lexer": "ipython3",
   "version": "3.7.3"
  }
 },
 "nbformat": 4,
 "nbformat_minor": 2
}
